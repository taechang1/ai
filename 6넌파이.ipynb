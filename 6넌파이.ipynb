{
  "nbformat": 4,
  "nbformat_minor": 0,
  "metadata": {
    "colab": {
      "provenance": [],
      "authorship_tag": "ABX9TyNFsmisZpa7eb3pp7ow38Fq",
      "include_colab_link": true
    },
    "kernelspec": {
      "name": "python3",
      "display_name": "Python 3"
    },
    "language_info": {
      "name": "python"
    }
  },
  "cells": [
    {
      "cell_type": "markdown",
      "metadata": {
        "id": "view-in-github",
        "colab_type": "text"
      },
      "source": [
        "<a href=\"https://colab.research.google.com/github/taechang1/ai/blob/master/6%EB%84%8C%ED%8C%8C%EC%9D%B4.ipynb\" target=\"_parent\"><img src=\"https://colab.research.google.com/assets/colab-badge.svg\" alt=\"Open In Colab\"/></a>"
      ]
    },
    {
      "cell_type": "code",
      "execution_count": null,
      "metadata": {
        "colab": {
          "base_uri": "https://localhost:8080/"
        },
        "id": "5WJaZMER5RdH",
        "outputId": "c590ef8d-982b-4c47-ef83-9a62e4003ffb"
      },
      "outputs": [
        {
          "output_type": "stream",
          "name": "stdout",
          "text": [
            "Requirement already satisfied: numpy in /usr/local/lib/python3.10/dist-packages (1.25.2)\n"
          ]
        }
      ],
      "source": [
        "!pip install numpy # 넌파이 설치"
      ]
    },
    {
      "cell_type": "code",
      "source": [
        "import numpy as np # 넌파이 import\n",
        "a= np.array(0) # 스칼라\n",
        "print(a)\n",
        "type(a)\n",
        "a2=np.array([1,2,3,4]) # 벡터\n",
        "print(a2)\n",
        "type(a2)\n",
        "a3=np.array([[1,2,3],[4,5,6],[7,8,9]]) # 행렬 3x3\n",
        "print(a3)\n",
        "type(a3)\n",
        "a4=np.array( [ [[1,2 ],[3,4],[5,6]   ],[[7,8],[9,10],[11,12] ]]  ) #텐서 2(면)x3(행)x2(열)\n",
        "print(a4)\n",
        "print(a4.shape)\n",
        "  # 3면 2 2열\n",
        "a5=np.array([[[1,2],[3,4]],[[5,6],[7,8]],[[9,10],[11,12]]])\n",
        "print(a5)\n",
        "print(a5.shape)"
      ],
      "metadata": {
        "colab": {
          "base_uri": "https://localhost:8080/"
        },
        "id": "1xH5ObIp5pTy",
        "outputId": "8a2ff59d-6973-4cb9-efb8-a6c64bcfc04b"
      },
      "execution_count": null,
      "outputs": [
        {
          "output_type": "stream",
          "name": "stdout",
          "text": [
            "0\n",
            "[1 2 3 4]\n",
            "[[1 2 3]\n",
            " [4 5 6]\n",
            " [7 8 9]]\n",
            "[[[ 1  2]\n",
            "  [ 3  4]\n",
            "  [ 5  6]]\n",
            "\n",
            " [[ 7  8]\n",
            "  [ 9 10]\n",
            "  [11 12]]]\n",
            "(2, 3, 2)\n",
            "[[[ 1  2]\n",
            "  [ 3  4]]\n",
            "\n",
            " [[ 5  6]\n",
            "  [ 7  8]]\n",
            "\n",
            " [[ 9 10]\n",
            "  [11 12]]]\n",
            "(3, 2, 2)\n"
          ]
        }
      ]
    },
    {
      "cell_type": "code",
      "source": [
        "#reshaping\n",
        "b=np.arange(12)  #1차원 벡터 생성\n",
        "print(b)\n",
        "b.shape\n",
        "b.shape=2,-1\n",
        "print(b)\n",
        "b.shape\n",
        "b.shape=3,-1\n",
        "print(b)\n",
        "b.shape\n",
        "b.shape=-1,3\n",
        "print(b)\n",
        "b.shape\n",
        "b.shape=-1\n",
        "print(b)\n",
        "print(b.size,'~~~~')"
      ],
      "metadata": {
        "colab": {
          "base_uri": "https://localhost:8080/"
        },
        "id": "Nh7Jq0SBBFjD",
        "outputId": "ed534b0e-c95d-4b0f-f4c7-4a1060e5f7ea"
      },
      "execution_count": null,
      "outputs": [
        {
          "output_type": "stream",
          "name": "stdout",
          "text": [
            "[ 0  1  2  3  4  5  6  7  8  9 10 11]\n",
            "[[ 0  1  2  3  4  5]\n",
            " [ 6  7  8  9 10 11]]\n",
            "[[ 0  1  2  3]\n",
            " [ 4  5  6  7]\n",
            " [ 8  9 10 11]]\n",
            "[[ 0  1  2]\n",
            " [ 3  4  5]\n",
            " [ 6  7  8]\n",
            " [ 9 10 11]]\n",
            "[ 0  1  2  3  4  5  6  7  8  9 10 11]\n",
            "12 ~~~~\n"
          ]
        }
      ]
    },
    {
      "cell_type": "markdown",
      "source": [
        "자료형\n",
        "\n",
        "int형(정수)\n",
        "\n",
        "int64,int16, int8 uint64\n",
        "-2^63~2^63 -1 범위의 정수를 표현할 수 있다.\n",
        "-2^15 ~ 2^15 - 1\n",
        "0 ~ 2^127 uint64의 정수표현의 범위 양의정수만 구한다.\n",
        "float형(실수) - 부동소숫점 표현방식,또는 실수표현방식 (자료검색할때)\n",
        "\n",
        "float64-소숫점 15까지 정확하다, float32- 6, float16-2\n",
        "자료저장 모습 : 부호비트1비트 지수부(7비트) 가수부(8 or 24 or 58 )\n",
        "소숫점아래를 저장하는 공간이 많이지게 하는 것\n",
        "실수의 기본은 float64이다.\n",
        "complex형(복소수)\n",
        "\n",
        "complex128, complex64"
      ],
      "metadata": {
        "id": "B0wH-BfTFF4j"
      }
    },
    {
      "cell_type": "code",
      "source": [
        "a=np.array([1,3,5,7,9],np.int32)\n",
        "print(a)\n",
        "a.dtype\n",
        "a1=np.array([2147483646,2147483647,2147483649],np.int64)\n",
        "print(a1)\n",
        "a2=np.array([2**63,2**63+1,2**63+2],np.uint64)\n",
        "print(a2)\n",
        "a2.dtype\n",
        "a3=np.array([2**62,-2**62])\n",
        "print(a3)\n",
        "a3.dtype\n",
        "a4=np.array([1,3,5,7,9]) # 64 비트로 처리\n",
        "print(a4)\n",
        "a4.dtype\n",
        "#결론 자료형을 명시하지 않으면 정수형의 기본은 int64이다\n",
        "#너무 큰 자료형 이므로 메모리절역을 위해 int8,int16,int32"
      ],
      "metadata": {
        "colab": {
          "base_uri": "https://localhost:8080/"
        },
        "id": "3nhQ3AMgHTqN",
        "outputId": "0a56be6c-da40-4de6-c2fb-6ff262fdf6b1"
      },
      "execution_count": null,
      "outputs": [
        {
          "output_type": "stream",
          "name": "stdout",
          "text": [
            "[1 3 5 7 9]\n",
            "[2147483646 2147483647 2147483649]\n",
            "[9223372036854775808 9223372036854775809 9223372036854775810]\n",
            "[ 4611686018427387904 -4611686018427387904]\n",
            "[1 3 5 7 9]\n"
          ]
        }
      ]
    },
    {
      "cell_type": "code",
      "source": [
        "#실수형\n",
        "a=np.array(3.14159265358973,np.float32)\n",
        "print(a)\n",
        "a.dtype\n",
        "a2=np.array(3.14)\n",
        "print(a2)\n",
        "a2.dtype"
      ],
      "metadata": {
        "colab": {
          "base_uri": "https://localhost:8080/"
        },
        "id": "y6eo3dqSQZcI",
        "outputId": "7f13d245-4d00-4e89-d380-37d1c811ac97"
      },
      "execution_count": null,
      "outputs": [
        {
          "output_type": "stream",
          "name": "stdout",
          "text": [
            "3.1415927\n",
            "3.14\n"
          ]
        },
        {
          "output_type": "execute_result",
          "data": {
            "text/plain": [
              "dtype('float64')"
            ]
          },
          "metadata": {},
          "execution_count": 28
        }
      ]
    },
    {
      "cell_type": "code",
      "source": [
        "a=a=np.array([1,2j,3+4j,2.72+3.14])\n",
        "print(a)\n",
        "a.dtype\n",
        "a.real# 실수만 추출\n",
        "a.imag\n",
        "print(a.real.dtype,'!!')\n",
        "print(a.imag.dtype,'~~')"
      ],
      "metadata": {
        "colab": {
          "base_uri": "https://localhost:8080/"
        },
        "id": "vHCIn8LaTAo5",
        "outputId": "e63827a2-90d9-4b50-c61e-a045fd9176ba"
      },
      "execution_count": null,
      "outputs": [
        {
          "output_type": "stream",
          "name": "stdout",
          "text": [
            "[1.  +0.j 0.  +2.j 3.  +4.j 5.86+0.j]\n",
            "float64 !!\n",
            "float64 ~~\n"
          ]
        }
      ]
    },
    {
      "cell_type": "markdown",
      "source": [
        "인덱싱 indexing 1) 1DArray 2) 2DArray\n",
        "슬라이싱 slicing 1) 1DArray 2) 2DArray\n",
        "iterating 1) 1DArray 2) 2DArray\n",
        "\n"
      ],
      "metadata": {
        "id": "fPUR94iYVqr3"
      }
    },
    {
      "cell_type": "code",
      "source": [
        "1#인덱싱 indexing 1)DArray 2)DArray\n",
        "a=np.array( [1,3,5,7,9] )\n",
        "print(a)\n",
        "print(a.ndim)\n",
        "print(a)\n",
        "print(a[0])\n",
        "print(a[3])\n",
        "print(a[4])\n",
        "print(a[-1])\n",
        "print(a[-2])"
      ],
      "metadata": {
        "colab": {
          "base_uri": "https://localhost:8080/"
        },
        "id": "C9ZEHLJvWJGc",
        "outputId": "1f9014a6-d19d-46f6-9360-d396c898834f"
      },
      "execution_count": null,
      "outputs": [
        {
          "output_type": "stream",
          "name": "stdout",
          "text": [
            "[1 3 5 7 9]\n",
            "1\n",
            "[1 3 5 7 9]\n",
            "1\n",
            "7\n",
            "9\n",
            "9\n",
            "7\n"
          ]
        }
      ]
    },
    {
      "cell_type": "code",
      "source": [
        "# 인덱싱 indexing  2) 2DArray\n",
        "a2 = np.array( [  [1,3,5],[2,4,6]  ])\n",
        "print(a2)\n",
        "print(a2.ndim )\n",
        "print(a2.shape)\n",
        "# 1, 5, 4 추출하기\n",
        "print( a2[0,0], a2[0,2], a2[1,1] )\n",
        "# 6, 3\n",
        "print( a2[1,2], a2[0,1])\n",
        "# 3값을 13을 바꾸기"
      ],
      "metadata": {
        "colab": {
          "base_uri": "https://localhost:8080/"
        },
        "id": "mQNeFN0vZ4zS",
        "outputId": "73551fc4-fcfa-4f12-e8a4-2b506ee9dc5c"
      },
      "execution_count": null,
      "outputs": [
        {
          "output_type": "stream",
          "name": "stdout",
          "text": [
            "[[1 3 5]\n",
            " [2 4 6]]\n",
            "2\n",
            "(2, 3)\n",
            "1 5 4\n",
            "6 3\n"
          ]
        }
      ]
    },
    {
      "cell_type": "code",
      "source": [
        "# 슬라이싱 slicing 1) 1DArray 2) 2DArray\n",
        "a=np.array([1,3,5,7,9])\n",
        "print(a.ndim)\n",
        "print(a.shape) # (5, )\n",
        "print( a[:])  # [1 3 5 7 9]\n",
        "print(a[0:])\n",
        "print(a[1:])\n",
        "print(a[2:])\n",
        "print(a[3:])\n",
        "print( a[:0] ) # []\n",
        "print(a[:1])\n",
        "print(a[:2])\n",
        "# print(a[1, 3, 5])  error\n",
        "print(a[:-1])\n",
        "print(a[:-2])\n",
        "print(a[1:4]) # 3 5 7\n",
        "\n",
        "a2=np.arange(10) # 0~9까지 연속적인 수의 배열 만들기\n",
        "print(a2)\n",
        "print( a2[::2] ) # 처음인덱스 포함 : 끝인덱스 포함안됨 :증가인덱스 증가가 +1, -1이면 생략함  [0 2 4 6 8]\n",
        "print( a2[::3] ) # [0 3 6 9]\n",
        "print( a2[::-1] ) # [9 8 7 6 5 4 3 2 1 0]\n",
        "print( a2[::-2] ) # [9 7 5 3 1]\n",
        "print( a2[1::2]) # [1,3,5,7,9]\n",
        "print( a2[:-2:2]) # [0 2 4 6]\n",
        "print( a2[:-4:2] ) # [0, 2, 4]\n",
        "print( a2[2:-2:2] )  #[2,4,6]\n",
        "\n",
        "a3=np.arange( 15 )\n",
        "# 1,3,5,7,9 출력하기\n",
        "print( a3[1:10:2])\n",
        "# 2,4,6,8,10,12 출력하기\n",
        "print( a3[2:13:2])\n",
        "# 14,13,12,11,10 출력하기\n",
        "print( a3[ -1:9:-1] )\n",
        "# 전부다 출력하기\n",
        "print(a3[::])\n",
        "# 1열 전부 다 출력하기 [1]\n",
        "print(a3[1:2])\n",
        "# 맨 마지막 열만 출력하기 [14]\n",
        "print(a3[-1:-2:-1])\n",
        "print(a3[-1::])\n",
        "#print( a[ : , : ])\n",
        "#print(a[ : , -3: ])\n",
        "#print(a[ :,-3:])\n",
        "\n",
        "#16 17\n",
        "# 21 22\n",
        "#print( a[ 1: , 1:3 ])\n",
        "\n",
        "#13 14\n",
        "#18 19\n",
        "# 23 24\n",
        "#print( a[ : , 3: ])\n",
        "\n",
        "a=np.arange(10,25).reshape(3,5)\n",
        "#10 ~100 까지 9x10 2차원 배열을 만드세요\n",
        "a=np.arange(10,100).reshape(9,10)\n",
        "print(a)\n",
        "\n"
      ],
      "metadata": {
        "colab": {
          "base_uri": "https://localhost:8080/"
        },
        "id": "WtzJOcHXeiTq",
        "outputId": "218e1cee-fba5-4601-a9f0-a420b8926f0a"
      },
      "execution_count": null,
      "outputs": [
        {
          "output_type": "stream",
          "name": "stdout",
          "text": [
            "1\n",
            "(5,)\n",
            "[1 3 5 7 9]\n",
            "[1 3 5 7 9]\n",
            "[3 5 7 9]\n",
            "[5 7 9]\n",
            "[7 9]\n",
            "[]\n",
            "[1]\n",
            "[1 3]\n",
            "[1 3 5 7]\n",
            "[1 3 5]\n",
            "[3 5 7]\n",
            "[0 1 2 3 4 5 6 7 8 9]\n",
            "[0 2 4 6 8]\n",
            "[0 3 6 9]\n",
            "[9 8 7 6 5 4 3 2 1 0]\n",
            "[9 7 5 3 1]\n",
            "[1 3 5 7 9]\n",
            "[0 2 4 6]\n",
            "[0 2 4]\n",
            "[2 4 6]\n",
            "[1 3 5 7 9]\n",
            "[ 2  4  6  8 10 12]\n",
            "[14 13 12 11 10]\n",
            "[ 0  1  2  3  4  5  6  7  8  9 10 11 12 13 14]\n",
            "[1]\n",
            "[14]\n",
            "[14]\n",
            "[[10 11 12 13 14 15 16 17 18 19]\n",
            " [20 21 22 23 24 25 26 27 28 29]\n",
            " [30 31 32 33 34 35 36 37 38 39]\n",
            " [40 41 42 43 44 45 46 47 48 49]\n",
            " [50 51 52 53 54 55 56 57 58 59]\n",
            " [60 61 62 63 64 65 66 67 68 69]\n",
            " [70 71 72 73 74 75 76 77 78 79]\n",
            " [80 81 82 83 84 85 86 87 88 89]\n",
            " [90 91 92 93 94 95 96 97 98 99]]\n"
          ]
        }
      ]
    },
    {
      "cell_type": "code",
      "source": [
        "\n",
        "#슬라이싱 slicing 20 Array\n",
        "a= np.arange(10,25).reshape(3,5)\n",
        "print(a)\n",
        "print(a.ndim)\n",
        "print(a.shape)\n",
        "print(a[:])\n",
        "print(a[0:])\n",
        "print(a[1:])\n",
        "print(a[-1:])\n",
        "print(a[-2:])\n",
        "print(a[-3:])\n",
        "print(a[0:],'~')\n",
        "print(a[:1],'~~')\n",
        "print(a[:-1],'~~~')\n",
        "print(a[ :,2 :])"
      ],
      "metadata": {
        "colab": {
          "base_uri": "https://localhost:8080/"
        },
        "id": "P5DclbThy5FF",
        "outputId": "1040665e-91ba-4bd3-b321-2b3a2542e4b5"
      },
      "execution_count": null,
      "outputs": [
        {
          "output_type": "stream",
          "name": "stdout",
          "text": [
            "[[10 11 12 13 14]\n",
            " [15 16 17 18 19]\n",
            " [20 21 22 23 24]]\n",
            "2\n",
            "(3, 5)\n",
            "[[10 11 12 13 14]\n",
            " [15 16 17 18 19]\n",
            " [20 21 22 23 24]]\n",
            "[[10 11 12 13 14]\n",
            " [15 16 17 18 19]\n",
            " [20 21 22 23 24]]\n",
            "[[15 16 17 18 19]\n",
            " [20 21 22 23 24]]\n",
            "[[20 21 22 23 24]]\n",
            "[[15 16 17 18 19]\n",
            " [20 21 22 23 24]]\n",
            "[[10 11 12 13 14]\n",
            " [15 16 17 18 19]\n",
            " [20 21 22 23 24]]\n",
            "[[10 11 12 13 14]\n",
            " [15 16 17 18 19]\n",
            " [20 21 22 23 24]] ~\n",
            "[[10 11 12 13 14]] ~~\n",
            "[[10 11 12 13 14]\n",
            " [15 16 17 18 19]] ~~~\n",
            "[[12 13 14]\n",
            " [17 18 19]\n",
            " [22 23 24]]\n"
          ]
        }
      ]
    },
    {
      "cell_type": "code",
      "source": [
        "# iterating - 반복자 1) 1DArray 2) DArray\n",
        "A= np.arange(11)**3\n"
      ],
      "metadata": {
        "id": "wPlP3w_E3zVv"
      },
      "execution_count": null,
      "outputs": []
    },
    {
      "cell_type": "code",
      "source": [
        "#iterating - 반복자 2) DArray\n",
        "#10~21 3x4 배열을 만드시오\n",
        "b=np.arange(10,22).reshape(3,4)\n",
        "#print(b)\n",
        "for bb in b:\n",
        "  print(bb)# 한 행씩 출력된다\n",
        "  # 요소별 출력하기\n",
        "\n",
        "for b1 in b:\n",
        "  for b2 in b1:\n",
        "    print(b2)"
      ],
      "metadata": {
        "colab": {
          "base_uri": "https://localhost:8080/"
        },
        "id": "TjJ5HeXB46JR",
        "outputId": "709123e5-8a2d-4a0c-e720-9ac0c198e8ec"
      },
      "execution_count": null,
      "outputs": [
        {
          "output_type": "stream",
          "name": "stdout",
          "text": [
            "[10 11 12 13]\n",
            "[14 15 16 17]\n",
            "[18 19 20 21]\n",
            "10\n",
            "11\n",
            "12\n",
            "13\n",
            "14\n",
            "15\n",
            "16\n",
            "17\n",
            "18\n",
            "19\n",
            "20\n",
            "21\n"
          ]
        }
      ]
    },
    {
      "cell_type": "markdown",
      "source": [
        "# 배열의 명령어\n",
        "arrange\n",
        "linespaace\n",
        "transpose\n",
        "reshape\n",
        "r_\n",
        "c_\n",
        "concatenate\n",
        "hstack,vstack\n",
        "zeros\n",
        "ones\n",
        "full\n",
        "empty"
      ],
      "metadata": {
        "id": "IkyzDphf6knH"
      }
    },
    {
      "cell_type": "code",
      "source": [
        "#arange\n",
        "a=np.arange(10,101,5)\n",
        "print(a)\n",
        "a=np.arange(10,dtype=np.float32)\n",
        "print(a)\n",
        "#0.0.1 0.2 ...0.9\n",
        "a=np.arange(0.0,1.0,0.1, dtype=np.float32 )\n",
        "a=np.arange(0,1,0.1)\n",
        "print(a)\n",
        "print(a.dtype)\n"
      ],
      "metadata": {
        "colab": {
          "base_uri": "https://localhost:8080/"
        },
        "id": "BzMH6C7F7hlq",
        "outputId": "6844d3b6-cccb-418f-81fa-333b0b3ed2d1"
      },
      "execution_count": null,
      "outputs": [
        {
          "output_type": "stream",
          "name": "stdout",
          "text": [
            "[ 10  15  20  25  30  35  40  45  50  55  60  65  70  75  80  85  90  95\n",
            " 100]\n",
            "[0. 1. 2. 3. 4. 5. 6. 7. 8. 9.]\n",
            "[0.  0.1 0.2 0.3 0.4 0.5 0.6 0.7 0.8 0.9]\n",
            "float64\n"
          ]
        }
      ]
    },
    {
      "cell_type": "code",
      "source": [
        "#linespace\n",
        "a=np.linspace(0,1,5)\n"
      ],
      "metadata": {
        "id": "6PpKkzZP_jZ4"
      },
      "execution_count": null,
      "outputs": []
    },
    {
      "cell_type": "code",
      "source": [
        "#transpose\n",
        "a=np.array([[1,2,3],[4,5,6]])\n",
        "b=a.T\n",
        "print(a)\n",
        "print(b)\n",
        "b2=np.transpose(a)\n",
        "# b2 = np.tranaspose(a) #열을 행으로 바꾼것\n",
        "print(b2)\n",
        "bb2=np.transpose(b2)\n",
        "print(bb2)\n",
        "aa=b.T\n",
        "print(aa)"
      ],
      "metadata": {
        "colab": {
          "base_uri": "https://localhost:8080/"
        },
        "id": "KzVoLoLXAQmg",
        "outputId": "990665c1-83d5-4d4b-c23d-1bc9035db54c"
      },
      "execution_count": null,
      "outputs": [
        {
          "output_type": "stream",
          "name": "stdout",
          "text": [
            "[[1 2 3]\n",
            " [4 5 6]]\n",
            "[[1 4]\n",
            " [2 5]\n",
            " [3 6]]\n",
            "[[1 4]\n",
            " [2 5]\n",
            " [3 6]]\n",
            "[[1 2 3]\n",
            " [4 5 6]]\n",
            "[[1 2 3]\n",
            " [4 5 6]]\n"
          ]
        }
      ]
    },
    {
      "cell_type": "code",
      "source": [
        "#reshape\n",
        "a=np.array([1,2,3,4,5,6,]).reshape(2,3)\n",
        "print(a)"
      ],
      "metadata": {
        "colab": {
          "base_uri": "https://localhost:8080/"
        },
        "id": "InlJQ8EbB0v_",
        "outputId": "402022f4-aa14-456b-b350-5055d2c788e1"
      },
      "execution_count": null,
      "outputs": [
        {
          "output_type": "stream",
          "name": "stdout",
          "text": [
            "[[1 2 3]\n",
            " [4 5 6]]\n"
          ]
        }
      ]
    },
    {
      "cell_type": "code",
      "source": [
        "#r_row 행\n",
        "a=np.array([1,2,3])\n",
        "b=np.array([4,5,6])\n",
        "print(a)\n",
        "print(b)\n",
        "c= np.r_[a,b]\n",
        "print(c)"
      ],
      "metadata": {
        "colab": {
          "base_uri": "https://localhost:8080/"
        },
        "id": "DFcK7RkfCYtA",
        "outputId": "22333451-40e8-4a5f-fdbd-250a6c3dcdad"
      },
      "execution_count": null,
      "outputs": [
        {
          "output_type": "stream",
          "name": "stdout",
          "text": [
            "[1 2 3]\n",
            "[4 5 6]\n",
            "[1 2 3 4 5 6]\n"
          ]
        }
      ]
    },
    {
      "cell_type": "code",
      "source": [
        "#concatente\n",
        "a=np.array([1,2,3])\n",
        "b=np.array([4,5,6])\n",
        "c=np.concatenate((a,b))\n",
        "print(c)\n",
        "c=np.concatenate((a,b),axis=0)\n",
        "print(c)"
      ],
      "metadata": {
        "colab": {
          "base_uri": "https://localhost:8080/"
        },
        "id": "SsyeVkc6DuNq",
        "outputId": "3f490745-4821-4f4a-eee2-0bcbd0945cf2"
      },
      "execution_count": null,
      "outputs": [
        {
          "output_type": "stream",
          "name": "stdout",
          "text": [
            "[1 2 3 4 5 6]\n",
            "[1 2 3 4 5 6]\n"
          ]
        }
      ]
    },
    {
      "cell_type": "code",
      "source": [
        "#concatente 2d\n"
      ],
      "metadata": {
        "id": "GdPKSrxSE7Ss"
      },
      "execution_count": null,
      "outputs": []
    },
    {
      "cell_type": "code",
      "source": [
        "#hstack- 수평 vstack-수직\n",
        "a=np.array([[1,2],[3,4]])\n",
        "b=np.array([[5,6],[7,8]])\n",
        "c=np.hstack((a,b)) # (튜플){딕셔너리}[list]\n",
        "print(c )\n",
        "c1=np.vstack((a,b))\n",
        "print(c1)"
      ],
      "metadata": {
        "colab": {
          "base_uri": "https://localhost:8080/"
        },
        "id": "ETTektpjGyRD",
        "outputId": "dba8e05e-9a65-4349-cdbf-5e46543bd786"
      },
      "execution_count": null,
      "outputs": [
        {
          "output_type": "stream",
          "name": "stdout",
          "text": [
            "[[1 2 5 6]\n",
            " [3 4 7 8]]\n",
            "[[1 2]\n",
            " [3 4]\n",
            " [5 6]\n",
            " [7 8]]\n"
          ]
        }
      ]
    },
    {
      "cell_type": "code",
      "source": [
        "a=np.zeros(5)\n",
        "print(a)\n",
        "a=np.ones(5)\n",
        "print(a)\n",
        "a2=np.zeros((3,5))\n",
        "print(a2)\n",
        "a3=np.ones((5,4))\n",
        "print(a3)\n",
        "print(a.dtype)\n",
        "print(a.ndim)\n",
        "#모든 요소값을 전부 5로하고싶다\n",
        "a=np.full(10,5)\n",
        "print(a)\n",
        "#3행 4열에 모든값을 7로 넣고 싶다\n",
        "c=np.full((3,4),7)\n",
        "print(c)"
      ],
      "metadata": {
        "colab": {
          "base_uri": "https://localhost:8080/"
        },
        "id": "RhC32ZZxIMyD",
        "outputId": "e92e0937-01be-400a-f8a0-3f3493a90cb9"
      },
      "execution_count": null,
      "outputs": [
        {
          "output_type": "stream",
          "name": "stdout",
          "text": [
            "[0. 0. 0. 0. 0.]\n",
            "[1. 1. 1. 1. 1.]\n",
            "[[0. 0. 0. 0. 0.]\n",
            " [0. 0. 0. 0. 0.]\n",
            " [0. 0. 0. 0. 0.]]\n",
            "[[1. 1. 1. 1.]\n",
            " [1. 1. 1. 1.]\n",
            " [1. 1. 1. 1.]\n",
            " [1. 1. 1. 1.]\n",
            " [1. 1. 1. 1.]]\n",
            "float64\n",
            "1\n",
            "[5 5 5 5 5 5 5 5 5 5]\n",
            "[[7 7 7 7]\n",
            " [7 7 7 7]\n",
            " [7 7 7 7]]\n"
          ]
        }
      ]
    },
    {
      "cell_type": "code",
      "source": [
        "#empty 항목을 초기화 하지 않고 주어진  모양과 유형의 새 배열을 반환\n",
        "a=np.empty(4)\n",
        "print(a)\n",
        "a=np.empty(4,dtype=np.int64)\n",
        "print(a)\n",
        "a=np.empty((2,4),dtype=np.int32)\n",
        "print(a)"
      ],
      "metadata": {
        "colab": {
          "base_uri": "https://localhost:8080/"
        },
        "id": "PNOsPAgUNYKd",
        "outputId": "f256b379-ac33-4f44-c935-2fdb50709337"
      },
      "execution_count": null,
      "outputs": [
        {
          "output_type": "stream",
          "name": "stdout",
          "text": [
            "[4.9e-324 9.9e-324 1.5e-323 2.0e-323]\n",
            "[1 2 3 4]\n",
            "[[1 0 2 0]\n",
            " [3 0 4 0]]\n"
          ]
        }
      ]
    },
    {
      "cell_type": "markdown",
      "source": [
        "### Math operation 수학 함수들 (명령어들)\n",
        "Broadcasting +-%\n",
        "Matrix Multiplocation 행렬곱\n",
        "제곱근 제곱합\n",
        "합계\n",
        "누적합\n",
        "평균"
      ],
      "metadata": {
        "id": "uKAPhN9-OX20"
      }
    },
    {
      "cell_type": "code",
      "source": [
        "#Broadcasting :배열 연산\n",
        "a=np.array([[1,2,3],[4,5,6]])\n",
        "b=np.array([[2,2,2],[3,3,3]])\n",
        "print(a+b)\n",
        "print(a-b)\n",
        "print(a*b)\n",
        "print(a/b)\n",
        "print(a%b)# 나머지\n",
        "print(a**b)# 제곱"
      ],
      "metadata": {
        "colab": {
          "base_uri": "https://localhost:8080/"
        },
        "id": "2n00IMmzO09T",
        "outputId": "2601f179-fc29-47dd-cd2b-53b0762324bc"
      },
      "execution_count": null,
      "outputs": [
        {
          "output_type": "stream",
          "name": "stdout",
          "text": [
            "[[3 4 5]\n",
            " [7 8 9]]\n",
            "[[-1  0  1]\n",
            " [ 1  2  3]]\n",
            "[[ 2  4  6]\n",
            " [12 15 18]]\n",
            "[[0.5        1.         1.5       ]\n",
            " [1.33333333 1.66666667 2.        ]]\n",
            "[[  1   4   9]\n",
            " [ 64 125 216]]\n"
          ]
        }
      ]
    },
    {
      "cell_type": "code",
      "source": [
        "#행렬 곱하기\n",
        "a=np.array([[1,2,3],[4,5,6]])\n",
        "b=np.array([[2,2],[3,3],[4,4]])\n",
        "c=a@b# 행렬 곱하기\n",
        "print(c)\n",
        "c=np.matmul(a,b)#행렬 곱하기\n",
        "print(c)"
      ],
      "metadata": {
        "colab": {
          "base_uri": "https://localhost:8080/"
        },
        "id": "UyYaOpQmPo6l",
        "outputId": "bb147149-a918-4aa2-cc80-fed584ce70a2"
      },
      "execution_count": null,
      "outputs": [
        {
          "output_type": "stream",
          "name": "stdout",
          "text": [
            "[[20 20]\n",
            " [47 47]]\n",
            "[[20 20]\n",
            " [47 47]]\n"
          ]
        }
      ]
    },
    {
      "cell_type": "code",
      "source": [
        "#제곱\n",
        "a=np.array([1,2,3,4])\n",
        "a1=np.square(a)\n",
        "print(a1)\n",
        "\n",
        "#제곱근\n",
        "a=np.array([1,2,3,4])\n",
        "print(np.sqrt(a))\n",
        "\n",
        "#합계\n",
        "print(np.sum(a))\n",
        "#평균\n",
        "print(np.average(a))\n",
        "print(np.mean(a))\n",
        "#최대값\n",
        "print(np.max(a))\n",
        "#최소값\n",
        "print(np.min(a))\n",
        "#누적합\n",
        "a=np.array([1,2,3,4,5])\n",
        "print(np.cumsum(a))\n",
        "#누적 곱\n",
        "a=np.array([1,7])\n",
        "print(a)\n",
        "print(np.cumprod(a))"
      ],
      "metadata": {
        "colab": {
          "base_uri": "https://localhost:8080/"
        },
        "id": "yXTx3S_oRkqW",
        "outputId": "5a30c4cd-aaff-4c28-db49-0efb254132d1"
      },
      "execution_count": null,
      "outputs": [
        {
          "output_type": "stream",
          "name": "stdout",
          "text": [
            "[ 1  4  9 16]\n",
            "[1.         1.41421356 1.73205081 2.        ]\n",
            "10\n",
            "2.5\n",
            "2.5\n",
            "4\n",
            "1\n",
            "[ 1  3  6 10 15]\n",
            "[1 7]\n",
            "[1 7]\n"
          ]
        }
      ]
    },
    {
      "cell_type": "code",
      "source": [],
      "metadata": {
        "id": "ojaTTd1-b6Av"
      },
      "execution_count": null,
      "outputs": []
    },
    {
      "cell_type": "markdown",
      "source": [
        "pi\n",
        "e\n",
        "exp\n",
        "sin\n",
        "cos\n",
        "tan\n",
        "log"
      ],
      "metadata": {
        "id": "92eBNAU0TcYW"
      }
    },
    {
      "cell_type": "code",
      "source": [
        "from numpy import pi,e"
      ],
      "metadata": {
        "id": "B4-ffgi8Tj5m"
      },
      "execution_count": null,
      "outputs": []
    },
    {
      "cell_type": "code",
      "source": [
        "print(pi)\n",
        "print(e)"
      ],
      "metadata": {
        "colab": {
          "base_uri": "https://localhost:8080/"
        },
        "id": "k2dx6BepUGO1",
        "outputId": "47bb1adc-79b9-4953-f7ea-690cfdd8782d"
      },
      "execution_count": null,
      "outputs": [
        {
          "output_type": "stream",
          "name": "stdout",
          "text": [
            "3.141592653589793\n",
            "2.718281828459045\n"
          ]
        }
      ]
    },
    {
      "cell_type": "code",
      "source": [
        "import numpy  as np\n",
        "np.exp(1)\n",
        "x=np.array([0,1,2])\n",
        "y=np.exp(x)\n",
        "print(y)"
      ],
      "metadata": {
        "colab": {
          "base_uri": "https://localhost:8080/"
        },
        "id": "uBqgoDx-ULML",
        "outputId": "a3fb8fbb-5813-43e7-9a2a-a78fd3a27af8"
      },
      "execution_count": null,
      "outputs": [
        {
          "output_type": "stream",
          "name": "stdout",
          "text": [
            "[1.         2.71828183 7.3890561 ]\n"
          ]
        }
      ]
    },
    {
      "cell_type": "code",
      "source": [
        "import matplotlib.pyplot as plt #그래프 그리기\n",
        "y=np.linspace(-2,2,100)\n",
        "y=np.exp(x)\n",
        "plt.plot(x,y)\n",
        "plt.show()"
      ],
      "metadata": {
        "colab": {
          "base_uri": "https://localhost:8080/",
          "height": 430
        },
        "id": "JWc0ZFlVUmX_",
        "outputId": "1cc1292d-34fa-4f0d-8002-0595ffde22a5"
      },
      "execution_count": null,
      "outputs": [
        {
          "output_type": "display_data",
          "data": {
            "text/plain": [
              "<Figure size 640x480 with 1 Axes>"
            ],
            "image/png": "[encoded data removed]"
          },
          "metadata": {}
        }
      ]
    },
    {
      "cell_type": "markdown",
      "source": [
        "random- 난수 rand()"
      ],
      "metadata": {
        "id": "MlmoGHEvV8bI"
      }
    },
    {
      "cell_type": "code",
      "source": [
        "np.random.rand() # 1개 랜덤수\n",
        "print(np.random.rand(3)) #3열 짜리 랜덤수\n",
        "print(np.random.rand(3,5))# 3행 5열 짜리 랜덤수 구하기\n"
      ],
      "metadata": {
        "colab": {
          "base_uri": "https://localhost:8080/"
        },
        "id": "oShM0P84WDE2",
        "outputId": "94fd945e-3f80-426a-aff2-338aea076a63"
      },
      "execution_count": null,
      "outputs": [
        {
          "output_type": "stream",
          "name": "stdout",
          "text": [
            "[0.07051119 0.55678648 0.84871006]\n",
            "[[0.3667045  0.10523834 0.5951022  0.86026761 0.429824  ]\n",
            " [0.76018964 0.14320009 0.84812924 0.5527104  0.00321597]\n",
            " [0.65179296 0.62446174 0.75875531 0.55669793 0.40405553]]\n"
          ]
        }
      ]
    },
    {
      "cell_type": "markdown",
      "source": [
        "##파일로 저장하기 np.save('파일명.npy',넌파이자료)\n",
        "#파일로 불러오기 변수=np.load('파일명.npy')"
      ],
      "metadata": {
        "id": "io01EJ2VWosu"
      }
    },
    {
      "cell_type": "code",
      "source": [
        "#0~99까지 10행 10열 2차원 배열 만들기\n",
        "a=np.arange(0,100).reshape(10,10)\n",
        "print(a)\n",
        "np.save('test.npy',a)"
      ],
      "metadata": {
        "colab": {
          "base_uri": "https://localhost:8080/"
        },
        "id": "e4wSZFUgXBqU",
        "outputId": "362937f9-5ec4-4244-8ef6-d6425b015b3f"
      },
      "execution_count": null,
      "outputs": [
        {
          "output_type": "stream",
          "name": "stdout",
          "text": [
            "[[ 0  1  2  3  4  5  6  7  8  9]\n",
            " [10 11 12 13 14 15 16 17 18 19]\n",
            " [20 21 22 23 24 25 26 27 28 29]\n",
            " [30 31 32 33 34 35 36 37 38 39]\n",
            " [40 41 42 43 44 45 46 47 48 49]\n",
            " [50 51 52 53 54 55 56 57 58 59]\n",
            " [60 61 62 63 64 65 66 67 68 69]\n",
            " [70 71 72 73 74 75 76 77 78 79]\n",
            " [80 81 82 83 84 85 86 87 88 89]\n",
            " [90 91 92 93 94 95 96 97 98 99]]\n"
          ]
        }
      ]
    },
    {
      "cell_type": "code",
      "source": [
        "#넌파이 불러오기\n",
        "k=np.load('test.npy')\n",
        "print(k)"
      ],
      "metadata": {
        "colab": {
          "base_uri": "https://localhost:8080/"
        },
        "id": "zS-p-shdYGh7",
        "outputId": "d9260bb0-8ac9-472c-b44b-454b14d8b693"
      },
      "execution_count": null,
      "outputs": [
        {
          "output_type": "stream",
          "name": "stdout",
          "text": [
            "[[ 0  1  2  3  4  5  6  7  8  9]\n",
            " [10 11 12 13 14 15 16 17 18 19]\n",
            " [20 21 22 23 24 25 26 27 28 29]\n",
            " [30 31 32 33 34 35 36 37 38 39]\n",
            " [40 41 42 43 44 45 46 47 48 49]\n",
            " [50 51 52 53 54 55 56 57 58 59]\n",
            " [60 61 62 63 64 65 66 67 68 69]\n",
            " [70 71 72 73 74 75 76 77 78 79]\n",
            " [80 81 82 83 84 85 86 87 88 89]\n",
            " [90 91 92 93 94 95 96 97 98 99]]\n"
          ]
        }
      ]
    },
    {
      "cell_type": "markdown",
      "source": [
        "\n",
        "\n",
        "###우수 초콜릿 분석하기\n",
        "\n"
      ],
      "metadata": {
        "id": "fwtf_sScb-lo"
      }
    },
    {
      "cell_type": "code",
      "source": [
        "import numpy as np\n",
        "from google.colab import files\n",
        "f=files.upload()\n",
        "data=np.loadtxt('chocolate_rating.csv',delimiter=',')"
      ],
      "metadata": {
        "colab": {
          "base_uri": "https://localhost:8080/",
          "height": 75
        },
        "id": "9OQ9Y2pxb9vJ",
        "outputId": "e3db5383-959c-40c2-b32e-67be68528325"
      },
      "execution_count": null,
      "outputs": [
        {
          "output_type": "display_data",
          "data": {
            "text/plain": [
              "<IPython.core.display.HTML object>"
            ],
            "text/html": [
              "\n",
              "     <input type=\"file\" id=\"files-68a94f1b-5786-4d14-ae39-8730987b1c3b\" name=\"files[]\" multiple disabled\n",
              "        style=\"border:none\" />\n",
              "     <output id=\"result-68a94f1b-5786-4d14-ae39-8730987b1c3b\">\n",
              "      Upload widget is only available when the cell has been executed in the\n",
              "      current browser session. Please rerun this cell to enable.\n",
              "      </output>\n",
              "      <script>// Copyright 2017 Google LLC\n",
              "//\n",
              "// Licensed under the Apache License, Version 2.0 (the \"License\");\n",
              "// you may not use this file except in compliance with the License.\n",
              "// You may obtain a copy of the License at\n",
              "//\n",
              "//      http://www.apache.org/licenses/LICENSE-2.0\n",
              "//\n",
              "// Unless required by applicable law or agreed to in writing, software\n",
              "// distributed under the License is distributed on an \"AS IS\" BASIS,\n",
              "// WITHOUT WARRANTIES OR CONDITIONS OF ANY KIND, either express or implied.\n",
              "// See the License for the specific language governing permissions and\n",
              "// limitations under the License.\n",
              "\n",
              "/**\n",
              " * @fileoverview Helpers for google.colab Python module.\n",
              " */\n",
              "(function(scope) {\n",
              "function span(text, styleAttributes = {}) {\n",
              "  const element = document.createElement('span');\n",
              "  element.textContent = text;\n",
              "  for (const key of Object.keys(styleAttributes)) {\n",
              "    element.style[key] = styleAttributes[key];\n",
              "  }\n",
              "  return element;\n",
              "}\n",
              "\n",
              "// Max number of bytes which will be uploaded at a time.\n",
              "const MAX_PAYLOAD_SIZE = 100 * 1024;\n",
              "\n",
              "function _uploadFiles(inputId, outputId) {\n",
              "  const steps = uploadFilesStep(inputId, outputId);\n",
              "  const outputElement = document.getElementById(outputId);\n",
              "  // Cache steps on the outputElement to make it available for the next call\n",
              "  // to uploadFilesContinue from Python.\n",
              "  outputElement.steps = steps;\n",
              "\n",
              "  return _uploadFilesContinue(outputId);\n",
              "}\n",
              "\n",
              "// This is roughly an async generator (not supported in the browser yet),\n",
              "// where there are multiple asynchronous steps and the Python side is going\n",
              "// to poll for completion of each step.\n",
              "// This uses a Promise to block the python side on completion of each step,\n",
              "// then passes the result of the previous step as the input to the next step.\n",
              "function _uploadFilesContinue(outputId) {\n",
              "  const outputElement = document.getElementById(outputId);\n",
              "  const steps = outputElement.steps;\n",
              "\n",
              "  const next = steps.next(outputElement.lastPromiseValue);\n",
              "  return Promise.resolve(next.value.promise).then((value) => {\n",
              "    // Cache the last promise value to make it available to the next\n",
              "    // step of the generator.\n",
              "    outputElement.lastPromiseValue = value;\n",
              "    return next.value.response;\n",
              "  });\n",
              "}\n",
              "\n",
              "/**\n",
              " * Generator function which is called between each async step of the upload\n",
              " * process.\n",
              " * @param {string} inputId Element ID of the input file picker element.\n",
              " * @param {string} outputId Element ID of the output display.\n",
              " * @return {!Iterable<!Object>} Iterable of next steps.\n",
              " */\n",
              "function* uploadFilesStep(inputId, outputId) {\n",
              "  const inputElement = document.getElementById(inputId);\n",
              "  inputElement.disabled = false;\n",
              "\n",
              "  const outputElement = document.getElementById(outputId);\n",
              "  outputElement.innerHTML = '';\n",
              "\n",
              "  const pickedPromise = new Promise((resolve) => {\n",
              "    inputElement.addEventListener('change', (e) => {\n",
              "      resolve(e.target.files);\n",
              "    });\n",
              "  });\n",
              "\n",
              "  const cancel = document.createElement('button');\n",
              "  inputElement.parentElement.appendChild(cancel);\n",
              "  cancel.textContent = 'Cancel upload';\n",
              "  const cancelPromise = new Promise((resolve) => {\n",
              "    cancel.onclick = () => {\n",
              "      resolve(null);\n",
              "    };\n",
              "  });\n",
              "\n",
              "  // Wait for the user to pick the files.\n",
              "  const files = yield {\n",
              "    promise: Promise.race([pickedPromise, cancelPromise]),\n",
              "    response: {\n",
              "      action: 'starting',\n",
              "    }\n",
              "  };\n",
              "\n",
              "  cancel.remove();\n",
              "\n",
              "  // Disable the input element since further picks are not allowed.\n",
              "  inputElement.disabled = true;\n",
              "\n",
              "  if (!files) {\n",
              "    return {\n",
              "      response: {\n",
              "        action: 'complete',\n",
              "      }\n",
              "    };\n",
              "  }\n",
              "\n",
              "  for (const file of files) {\n",
              "    const li = document.createElement('li');\n",
              "    li.append(span(file.name, {fontWeight: 'bold'}));\n",
              "    li.append(span(\n",
              "        `(${file.type || 'n/a'}) - ${file.size} bytes, ` +\n",
              "        `last modified: ${\n",
              "            file.lastModifiedDate ? file.lastModifiedDate.toLocaleDateString() :\n",
              "                                    'n/a'} - `));\n",
              "    const percent = span('0% done');\n",
              "    li.appendChild(percent);\n",
              "\n",
              "    outputElement.appendChild(li);\n",
              "\n",
              "    const fileDataPromise = new Promise((resolve) => {\n",
              "      const reader = new FileReader();\n",
              "      reader.onload = (e) => {\n",
              "        resolve(e.target.result);\n",
              "      };\n",
              "      reader.readAsArrayBuffer(file);\n",
              "    });\n",
              "    // Wait for the data to be ready.\n",
              "    let fileData = yield {\n",
              "      promise: fileDataPromise,\n",
              "      response: {\n",
              "        action: 'continue',\n",
              "      }\n",
              "    };\n",
              "\n",
              "    // Use a chunked sending to avoid message size limits. See b/62115660.\n",
              "    let position = 0;\n",
              "    do {\n",
              "      const length = Math.min(fileData.byteLength - position, MAX_PAYLOAD_SIZE);\n",
              "      const chunk = new Uint8Array(fileData, position, length);\n",
              "      position += length;\n",
              "\n",
              "      const base64 = btoa(String.fromCharCode.apply(null, chunk));\n",
              "      yield {\n",
              "        response: {\n",
              "          action: 'append',\n",
              "          file: file.name,\n",
              "          data: base64,\n",
              "        },\n",
              "      };\n",
              "\n",
              "      let percentDone = fileData.byteLength === 0 ?\n",
              "          100 :\n",
              "          Math.round((position / fileData.byteLength) * 100);\n",
              "      percent.textContent = `${percentDone}% done`;\n",
              "\n",
              "    } while (position < fileData.byteLength);\n",
              "  }\n",
              "\n",
              "  // All done.\n",
              "  yield {\n",
              "    response: {\n",
              "      action: 'complete',\n",
              "    }\n",
              "  };\n",
              "}\n",
              "\n",
              "scope.google = scope.google || {};\n",
              "scope.google.colab = scope.google.colab || {};\n",
              "scope.google.colab._files = {\n",
              "  _uploadFiles,\n",
              "  _uploadFilesContinue,\n",
              "};\n",
              "})(self);\n",
              "</script> "
            ]
          },
          "metadata": {}
        },
        {
          "output_type": "stream",
          "name": "stdout",
          "text": [
            "Saving chocolate_rating.csv to chocolate_rating.csv\n"
          ]
        }
      ]
    },
    {
      "cell_type": "code",
      "source": [
        "#print(data)\n",
        "print(data.ndim)\n",
        "print(data.shape)\n",
        "print(data.size)"
      ],
      "metadata": {
        "colab": {
          "base_uri": "https://localhost:8080/"
        },
        "id": "PhxaBq4FdTC5",
        "outputId": "4ce4bab3-90fa-4423-cc60-f02abbf1e453"
      },
      "execution_count": null,
      "outputs": [
        {
          "output_type": "stream",
          "name": "stdout",
          "text": [
            "2\n",
            "(1795, 4)\n",
            "7180\n"
          ]
        }
      ]
    },
    {
      "cell_type": "code",
      "source": [
        "rating_mean=data[: ,3].mean()\n",
        "#print(rating_mean)\n",
        "\n",
        "high_level=data[data[:,3]>=4]\n",
        "#print(high_level[0:10])\n",
        "high_id=high_level[:,0].astype(np.int64)\n",
        "print(high_id)\n",
        "print('우수초콜릿 수는?',high_id.size)"
      ],
      "metadata": {
        "colab": {
          "base_uri": "https://localhost:8080/"
        },
        "id": "dGEkticifEFi",
        "outputId": "2eb40284-3a75-425a-d803-7b479eea19f9"
      },
      "execution_count": null,
      "outputs": [
        {
          "output_type": "stream",
          "name": "stdout",
          "text": [
            "[  10   18   21   55   57   77   78   79   84   87   88   93  108  109\n",
            "  118  124  153  180  181  187  223  232  233  240  243  244  245  248\n",
            "  257  312  316  317  358  437  503  567  573  574  582  601  650  687\n",
            "  690  691  701  720  730  800  828  862  864  865  866  883  919  993\n",
            " 1088 1089 1118 1119 1120 1204 1241 1245 1247 1274 1277 1278 1289 1291\n",
            " 1293 1295 1323 1331 1336 1378 1394 1426 1428 1433 1479 1488 1513 1516\n",
            " 1529 1530 1531 1533 1536 1537 1544 1545 1664 1683 1686 1688 1694 1700\n",
            " 1740 1757]\n",
            "우수초콜릿 수는? 100\n"
          ]
        }
      ]
    },
    {
      "cell_type": "code",
      "source": [
        "high_kakao=high_level[:,2]\n",
        "print(high_kakao)\n",
        "unique_values,value_counts=np.unique(high_kakao,return_counts=True)\n",
        "print('카카오 함유량',unique_values)\n",
        "print('함유량별 빈도수',value_counts)"
      ],
      "metadata": {
        "colab": {
          "base_uri": "https://localhost:8080/"
        },
        "id": "tn0cgDXmh9K7",
        "outputId": "112553a4-19e2-4cda-9541-10f6dbb2af5e"
      },
      "execution_count": null,
      "outputs": [
        {
          "output_type": "stream",
          "name": "stdout",
          "text": [
            "[0.7  0.7  0.63 0.7  0.7  0.7  0.75 0.7  0.7  0.7  0.66 0.6  0.7  0.7\n",
            " 0.7  0.72 0.7  0.73 0.72 0.72 0.75 0.75 0.75 0.75 0.75 0.75 0.75 0.75\n",
            " 0.7  0.71 0.7  0.7  0.72 0.75 0.7  0.7  0.7  0.7  0.7  0.7  0.68 0.7\n",
            " 0.74 0.69 0.7  0.74 0.7  0.72 0.7  0.74 0.7  0.72 0.72 0.7  0.7  0.63\n",
            " 0.68 0.74 0.67 0.65 0.64 0.75 0.7  0.7  0.7  0.75 0.7  0.67 0.7  0.72\n",
            " 0.72 0.72 0.75 0.75 0.8  0.75 0.75 0.7  0.78 0.65 0.7  0.72 0.7  0.75\n",
            " 0.88 0.7  0.67 0.7  0.7  0.7  0.64 0.7  0.7  0.63 0.69 0.64 0.64 0.7\n",
            " 0.7  0.7 ]\n",
            "카카오 함유량 [0.6  0.63 0.64 0.65 0.66 0.67 0.68 0.69 0.7  0.71 0.72 0.73 0.74 0.75\n",
            " 0.78 0.8  0.88]\n",
            "함유량별 빈도수 [ 1  3  4  2  1  3  2  2 45  1 11  1  4 17  1  1  1]\n"
          ]
        }
      ]
    },
    {
      "cell_type": "code",
      "source": [
        "max_idx =np.argmax( value_counts )\n",
        "print(max_idx)\n",
        "print(unique_values[max_idx])\n",
        "print( '우수초콜릿', high_id.size, '가지 중', value_counts[ max_idx], '가지의 카카오 함유량이 ', unique_values[ max_idx ] * 100, '%입니다'  )"
      ],
      "metadata": {
        "colab": {
          "base_uri": "https://localhost:8080/"
        },
        "id": "wWmBlPQngJ0J",
        "outputId": "76ee6296-fda1-4cf1-941e-2c106245921d"
      },
      "execution_count": null,
      "outputs": [
        {
          "output_type": "stream",
          "name": "stdout",
          "text": [
            "8\n",
            "0.7\n",
            "우수초콜릿 100 가지 중 45 가지의 카카오 함유량이  70.0 %입니다\n"
          ]
        }
      ]
    },
    {
      "cell_type": "code",
      "source": [
        "# 넘파이 모듈을 np라는 이름으로 임포트해보세요.\n",
        "import numpy as np\n",
        "# 2. 리스트를 넘파이의 ndarry 객체로 변환해보세요.\n",
        "data = [1,2,3]\n",
        "ndarray =np.array( data )\n",
        "print( '2', ndarray)\n",
        "# 3. 0부터 99까지의 정수가 저장된 ndarray 객체를 만들어 보세요( 힌트 arange)\n",
        "ndarray = np.arange(100)\n",
        "print( '3', ndarray)\n",
        "# 4. 구구단 3단의 결과가 저장된 gugu객체를 만들어 보세요 ( 힌트 arange)\n",
        "# gugu\n",
        "# [ 3 6 9 12 15 18 21 24 27]\n",
        "gugu = np.arange(1,10)*3\n",
        "print( '4', gugu)\n",
        "\n",
        "# 5. 1000보다 작은 짝수가 저장된 evenObj 객체를 만드시오 ( 힌트 arange)\n",
        "evenObj = np.arange( 2, 1000, 2)\n",
        "print( '5', evenObj)"
      ],
      "metadata": {
        "colab": {
          "base_uri": "https://localhost:8080/"
        },
        "id": "TxAZq3raA7Tv",
        "outputId": "1a139a14-069a-4b97-bd2e-12cca1f9cf74"
      },
      "execution_count": 1,
      "outputs": [
        {
          "output_type": "stream",
          "name": "stdout",
          "text": [
            "2 [1 2 3]\n",
            "3 [ 0  1  2  3  4  5  6  7  8  9 10 11 12 13 14 15 16 17 18 19 20 21 22 23\n",
            " 24 25 26 27 28 29 30 31 32 33 34 35 36 37 38 39 40 41 42 43 44 45 46 47\n",
            " 48 49 50 51 52 53 54 55 56 57 58 59 60 61 62 63 64 65 66 67 68 69 70 71\n",
            " 72 73 74 75 76 77 78 79 80 81 82 83 84 85 86 87 88 89 90 91 92 93 94 95\n",
            " 96 97 98 99]\n",
            "4 [ 3  6  9 12 15 18 21 24 27]\n",
            "5 [  2   4   6   8  10  12  14  16  18  20  22  24  26  28  30  32  34  36\n",
            "  38  40  42  44  46  48  50  52  54  56  58  60  62  64  66  68  70  72\n",
            "  74  76  78  80  82  84  86  88  90  92  94  96  98 100 102 104 106 108\n",
            " 110 112 114 116 118 120 122 124 126 128 130 132 134 136 138 140 142 144\n",
            " 146 148 150 152 154 156 158 160 162 164 166 168 170 172 174 176 178 180\n",
            " 182 184 186 188 190 192 194 196 198 200 202 204 206 208 210 212 214 216\n",
            " 218 220 222 224 226 228 230 232 234 236 238 240 242 244 246 248 250 252\n",
            " 254 256 258 260 262 264 266 268 270 272 274 276 278 280 282 284 286 288\n",
            " 290 292 294 296 298 300 302 304 306 308 310 312 314 316 318 320 322 324\n",
            " 326 328 330 332 334 336 338 340 342 344 346 348 350 352 354 356 358 360\n",
            " 362 364 366 368 370 372 374 376 378 380 382 384 386 388 390 392 394 396\n",
            " 398 400 402 404 406 408 410 412 414 416 418 420 422 424 426 428 430 432\n",
            " 434 436 438 440 442 444 446 448 450 452 454 456 458 460 462 464 466 468\n",
            " 470 472 474 476 478 480 482 484 486 488 490 492 494 496 498 500 502 504\n",
            " 506 508 510 512 514 516 518 520 522 524 526 528 530 532 534 536 538 540\n",
            " 542 544 546 548 550 552 554 556 558 560 562 564 566 568 570 572 574 576\n",
            " 578 580 582 584 586 588 590 592 594 596 598 600 602 604 606 608 610 612\n",
            " 614 616 618 620 622 624 626 628 630 632 634 636 638 640 642 644 646 648\n",
            " 650 652 654 656 658 660 662 664 666 668 670 672 674 676 678 680 682 684\n",
            " 686 688 690 692 694 696 698 700 702 704 706 708 710 712 714 716 718 720\n",
            " 722 724 726 728 730 732 734 736 738 740 742 744 746 748 750 752 754 756\n",
            " 758 760 762 764 766 768 770 772 774 776 778 780 782 784 786 788 790 792\n",
            " 794 796 798 800 802 804 806 808 810 812 814 816 818 820 822 824 826 828\n",
            " 830 832 834 836 838 840 842 844 846 848 850 852 854 856 858 860 862 864\n",
            " 866 868 870 872 874 876 878 880 882 884 886 888 890 892 894 896 898 900\n",
            " 902 904 906 908 910 912 914 916 918 920 922 924 926 928 930 932 934 936\n",
            " 938 940 942 944 946 948 950 952 954 956 958 960 962 964 966 968 970 972\n",
            " 974 976 978 980 982 984 986 988 990 992 994 996 998]\n"
          ]
        }
      ]
    },
    {
      "cell_type": "code",
      "source": [
        "# 6. 0부터 1까지 0.1간격으로 구성된 aObj 객체를 만드시오 1은 포함되지 않습니다\n",
        "a0bj=np.arange(0,1,0.1)\n",
        "# 7. 리스트에는 6개의 데이터가 저장되 있습니다\n",
        "#data=[0,1,2,3,4,5]\n",
        "# [[0 1 2]\n",
        "#  [3 4 5 ] ]\n",
        "# 힌트 reshape\n",
        "data=[0,1,2,3,4,5]\n",
        "a7=np.array(data).reshape(2,3)\n",
        "print('7',a7)\n",
        "# 8. 다음과 같이 2행 3열의 a7객체로 변환하세요\n",
        "a8=np.array([[]])\n",
        "# 9. 다음의 2차원 a8 1차원 a81로 변환하세요 (힌트 reshape)\n",
        "a8 = np.array( [  [0,1,2],\n",
        "                  [3,4,5]\n",
        "                   ] )\n",
        "a81 = a8.reshape( 6 )\n",
        "print('8', a81)\n",
        "\n",
        "# 주어진 a9를 다음과 같이 변경해 보세요\n",
        "a9 = np.arange(3)\n",
        "# [ [0]\n",
        "#   [1]\n",
        "#   [2] ]\n",
        "a9 = a9.reshape( 3, 1)\n",
        "print('9', a9)\n",
        "\n",
        "# 10. 아래 코드는 에러가 난다 이유는?\n",
        "#np.arange(6).reshape(2,4)\n",
        "#reshape(2,4)는 2행4열 입니다 즉 8개의 원소가 있어야한다\n",
        "# arange(6)는 6개이므로 원소의 갯수가 맞지 않는다\n"
      ],
      "metadata": {
        "colab": {
          "base_uri": "https://localhost:8080/"
        },
        "id": "8pO8brNtDUEG",
        "outputId": "20854ab7-b5f7-4030-daa2-f816452f6d0a"
      },
      "execution_count": 4,
      "outputs": [
        {
          "output_type": "stream",
          "name": "stdout",
          "text": [
            "7 [[0 1 2]\n",
            " [3 4 5]]\n",
            "8 [0 1 2 3 4 5]\n",
            "9 [[0]\n",
            " [1]\n",
            " [2]]\n"
          ]
        }
      ]
    },
    {
      "cell_type": "code",
      "source": [
        "#11. 다음과 같이 2차원 a11객체를 만드세요\n",
        "\n",
        "#[ [0 1 2]\n",
        "\n",
        "#  [3 4 5 ] ]\n",
        "\n",
        "#12. 1이 20개 저장된 아래의 a12객체를 만들어 보세요 (힌트 ones)\n",
        "\n",
        "#[ 1 1 1 1 1 1 1 1 1  1 1 1 1 1 1  1 1]\n",
        "\n",
        "#13. 4행 5열로 저장된 아래의 a13객체를 만드시오\n",
        "\n",
        " #[[1 1 1 1 1]\n",
        "\n",
        " #[1 1 1 1 1]\n",
        "\n",
        " #[1 1 1 1 1]\n",
        "\n",
        " #[1 1 1 1 1]]\n",
        "\n",
        "#14.  255로 채워진 10 X 10 크기의 a14 객체를 생성하시오\n",
        "\n",
        "\n",
        "#15. 3 X 4 크기의 0으로 채워진 배열을 생성하시오 (힌트 zeros)"
      ],
      "metadata": {
        "id": "AN_IN9BsF1Lh"
      },
      "execution_count": null,
      "outputs": []
    },
    {
      "cell_type": "code",
      "source": [
        "# 16. [ 1, 2, 3 ]을 np.int32 타입의 a16 배열로 생성하시오(힌트 dtype)\n",
        "data=[1,2,3]\n",
        "a16 = np.array( data, dtype=np.int32 )\n",
        "print('16', a16)\n",
        "print('16 dtype', a16.dtype )\n",
        "# 17. 다음 배열의 데이터 타입을 확인해 보세요\n",
        "a17 = np.array([ 1, 2, 3 ] )\n",
        "print('17', a17.dtype)\n",
        "# 18.  다음 배열의 데이터 타입을 확인해 보세요\n",
        "a18 = np.array([ '1', '2', '3'] )\n",
        "print('18', a18.dtype) # '<U1' 1바이트 문자열이란 뜻\n",
        "# 19. 다음 데이터를 np.int16 타입의 배열로 형변환해 보세요\n",
        "a19 = np.array([ 1, 2, 3] )\n",
        "print( '19 기본자료형', a19.dtype )\n",
        "a19 = a19.astype( np.int16)\n",
        "print( '19 형변환한 자료형', a19.dtype )\n",
        "\n",
        "# 20. 300이 44로 출력되는 이유를 설명하세요\n",
        "a20 = np.array( [ 255, 300, 128], dtype=np.uint8 )\n",
        "print('20', a20)\n",
        "# a\n",
        "# [255  44 128]\n",
        "# 설명 300는 자료표현의 범위에서 벗어남(넘침) 다른 값이 출력"
      ],
      "metadata": {
        "colab": {
          "base_uri": "https://localhost:8080/"
        },
        "id": "a3nG9DuRGHjw",
        "outputId": "1a043bc1-ead1-42d1-9865-0dc5e38c37b3"
      },
      "execution_count": 10,
      "outputs": [
        {
          "output_type": "stream",
          "name": "stdout",
          "text": [
            "16 [1 2 3]\n",
            "16 dtype int32\n",
            "17 int64\n",
            "18 <U1\n",
            "19 기본자료형 int64\n",
            "19 형변환한 자료형 int16\n",
            "20 [255  44 128]\n"
          ]
        },
        {
          "output_type": "stream",
          "name": "stderr",
          "text": [
            "<ipython-input-10-7dd5a6723339>:19: DeprecationWarning: NumPy will stop allowing conversion of out-of-bound Python integers to integer arrays.  The conversion of 300 to uint8 will fail in the future.\n",
            "For the old behavior, usually:\n",
            "    np.array(value).astype(dtype)\n",
            "will give the desired result (the cast overflows).\n",
            "  a20 = np.array( [ 255, 300, 128], dtype=np.uint8 )\n"
          ]
        }
      ]
    },
    {
      "cell_type": "code",
      "source": [
        "# 21. 힌트 astype\n",
        "# a21배열은 float64 타입입니다. 이를 np.int32타입으로 변경하세요.\n",
        "import numpy as np\n",
        "a21=np.array([ 1.1, 2.1, 3.1 ])\n",
        "a21 = a21.astype( np.int32 )\n",
        "print( '21', a21)\n",
        "print( '21 dtype', a21.dtype)\n",
        "\n",
        "# 22. 0~10사이 구간을 20개의 포인터로 분할한 결과를 a22객체로 생성하시오(힌트 linespace)\n",
        "# array([ 0.        ,  0.52631579,  1.05263158,  1.57894737,  2.10526316,\n",
        "#        2.63157895,  3.15789474,  3.68421053,  4.21052632,  4.73684211,\n",
        "#         5.26315789,  5.78947368,  6.31578947,  6.84210526,  7.36842105,\n",
        "#         7.89473684,  8.42105263,  8.94736842,  9.47368421, 10.        ])\n",
        "a22 = np.linspace( 0, 10, 20 )\n",
        "print( '22', a22)\n",
        "\n",
        "# 23.  아래 객체에서 마지막 행[6,7,8]을 출력해 보세요\n",
        "a23 = np.arange(9).reshape(3, 3)\n",
        "print( '23', a23[-1])\n",
        "\n",
        "# [[0 1 2]\n",
        "#  [3 4 5]\n",
        "#  [6 7 8]]\n",
        "\n",
        "\n",
        "# 24. 데이터 인덱싱\n",
        "# 아래 객체에서 마지막 17 출력해 보세요\n",
        "a24 = np.arange(25).reshape(5, 5)\n",
        "print( '24', a24[3,2])\n",
        "\n",
        "# [[ 0  1  2  3  4]\n",
        "#  [ 5  6  7  8  9]\n",
        "#  [10 11 12 13 14]\n",
        "#  [15 16 17 18 19]\n",
        "#  [20 21 22 23 24]]\n",
        "\n",
        "# 25. 슬라이싱\n",
        "# [1 3]을 슬라이싱 하세요\n",
        "a25= np.arange(5)\n",
        "print( '25', a25[1::2]) # [시작인덱스:끝인덱스:증가인덱스]\n",
        "# [ 0  1  2  3  4]"
      ],
      "metadata": {
        "colab": {
          "base_uri": "https://localhost:8080/"
        },
        "id": "eV2QNxqkGzm4",
        "outputId": "2c2f6f3b-42a5-4491-ebd5-a2e22cfec493"
      },
      "execution_count": 11,
      "outputs": [
        {
          "output_type": "stream",
          "name": "stdout",
          "text": [
            "21 [1 2 3]\n",
            "21 dtype int32\n",
            "22 [ 0.          0.52631579  1.05263158  1.57894737  2.10526316  2.63157895\n",
            "  3.15789474  3.68421053  4.21052632  4.73684211  5.26315789  5.78947368\n",
            "  6.31578947  6.84210526  7.36842105  7.89473684  8.42105263  8.94736842\n",
            "  9.47368421 10.        ]\n",
            "23 [6 7 8]\n",
            "24 17\n",
            "25 [1 3]\n"
          ]
        }
      ]
    },
    {
      "cell_type": "code",
      "source": [
        "#26. [ 6 7 8 9]를 슬라이싱 하는 코드를 작성하기\n",
        "\n",
        "#> a26 = np.arange(25).reshape(5, 5)\n",
        "\n",
        "#> a26\n",
        "\n",
        "[[ 0  1  2  3  4]\n",
        "\n",
        " [ 5  6  7  8  9]\n",
        "\n",
        " [10 11 12 13 14]\n",
        "\n",
        " [15 16 17 18 19]\n",
        "\n",
        " [20 21 22 23 24]]\n",
        "\n",
        "\n",
        "\n",
        "#27. 첫번째와 두번째 컬럼을 슬라이싱하는 코드 작성\n",
        "\n",
        "> a27 = np.arange(25).reshape(5, 5)\n",
        "\n",
        "#> a27\n",
        "\n",
        "#[[ 0  1  2  3  4]\n",
        "\n",
        "# [ 5  6  7  8  9]\n",
        "\n",
        " #[10 11 12 13 14]\n",
        "\n",
        " #[15 16 17 18 19]\n",
        "\n",
        " #[20 21 22 23 24]]\n",
        "\n",
        "​#\n",
        "\n",
        "#28.  6. 7,11, 12 를 2x2 ndarray로 슬라이싱하는 코드를 작성하세요.\n",
        "\n",
        "​#\n",
        "\n",
        "#> a28 = np.arange(25).reshape(5, 5)\n",
        "\n",
        "#> a28\n",
        "\n",
        "#[[ 0  1  2  3  4]\n",
        "\n",
        " #[ 5  6  7  8  9]\n",
        "\n",
        " #[10 11 12 13 14]\n",
        "\n",
        " #[15 16 17 18 19]\n",
        "\n",
        "# [20 21 22 23 24]]\n",
        "\n",
        "\n",
        "#29. 0 3 20 23 를 2x2 ndarray로 슬라이싱하는 코드를 작성하세요.\n",
        "\n",
        "a29 = np.arange(25).reshape(5, 5)\n",
        "print('29-1', a29)\n",
        "print('29', a29)\n",
        "#> a29\n",
        "\n",
        "#[[ 0 1 2 3 4]\n",
        "\n",
        "#[ 5 6 7 8 9]\n",
        "\n",
        "#[10 11 12 13 14]\n",
        "\n",
        "#[15 16 17 18 19]\n",
        "\n",
        "#[20 21 22 23 24]]\n",
        "\n",
        "​#\n",
        "\n",
        "#30 전체 데이터에 10을 곱한 결과를 a30에 저장하기\n",
        "\n",
        "data=[1,2,3]"
      ],
      "metadata": {
        "id": "M8uum-55Y-s6"
      },
      "execution_count": null,
      "outputs": []
    },
    {
      "cell_type": "code",
      "source": [
        "# 31. 다음 a31에는 중간고사의 국어점수(10), 영어점수(20), 기말고사의 국어점수(14), 영어점수(16)이 저장되 있다\n",
        "a31 = np.array([\n",
        "    [10, 20],  # 중간고사\n",
        "    [14, 16]   # 기말고사\n",
        "])\n",
        "\n",
        "# 과목별 평균점수를 출력하세요\n",
        "# 결과 화면 [12. 18.]\n",
        "print('31', a31)\n",
        "\n",
        "# 32 31번 문제에서 표준편차를 구하세요\n",
        "\n",
        "# 33. 행과 열의 위치를 바꾼 행열을 전치행렬이라고 한다.\n",
        "a32 = np.arange(9).reshape(3,3)\n",
        "print('32', a32)\n",
        "\n",
        "# 33.  다음 배열에서 3보다 크고 7보다 작은 수만 출력하세요\n",
        "a33 = np.arange(10)\n",
        "print('33', a33)\n",
        "\n",
        "# 34. 다음 객체에서 음수를 출력하세요\n",
        "\n",
        "a34 = np.array([ -1, 2, -3, 4] )\n",
        "print('34', a34)\n",
        "\n",
        "# 35. 다음 객체에서 음수를 0으로 바꾸세요\n",
        "a35 = np.array([ -1, 2, -3, 4] )\n",
        "print('35', a35)"
      ],
      "metadata": {
        "colab": {
          "base_uri": "https://localhost:8080/"
        },
        "id": "jK8bl2NIGz9n",
        "outputId": "34dcf0f3-f8fd-47a8-e2a6-f5560340a108"
      },
      "execution_count": 12,
      "outputs": [
        {
          "output_type": "stream",
          "name": "stdout",
          "text": [
            "31 [[10 20]\n",
            " [14 16]]\n",
            "32 [[0 1 2]\n",
            " [3 4 5]\n",
            " [6 7 8]]\n",
            "33 [0 1 2 3 4 5 6 7 8 9]\n",
            "34 [-1  2 -3  4]\n",
            "35 [-1  2 -3  4]\n"
          ]
        }
      ]
    },
    {
      "cell_type": "code",
      "source": [
        "# 36.  다음 객체에서 음수를 양수로 바꾸세요\n",
        "a36 = np.array([ -1, 2, -3, 4] )\n",
        "# a36[ a36 < 0 ] = a36[ a36 < 0 ] * -1  방법1 음수를 찾아서 * -1을 한것\n",
        "print('36', np.abs( a36 ) ) # 방법2 abs() 절대값함수 사용\n",
        "\n",
        "# 37. 다음 객체에서 양수 혹은 0이면 10을 더하고 음수는 10을 빼세요\n",
        "a37 = np.array([ -1, 2, -3, 4] )\n",
        "a37[ a37 >= 0 ] = a37[ a37 >= 0 ] + 10\n",
        "a37[ a37 < 0 ] = a37[ a37 < 0 ] - 10\n",
        "print('37', a37)\n",
        "\n",
        "# 38. numpy random 모듈의 shuffle 함수를 사용해서 입력 리스트의 원소들을 랜덤하게 썩어 보세요\n",
        "a38 = [ 1,2,3,4,5 ]\n",
        "np.random.shuffle( a38 )\n",
        "print('38', a38 )\n",
        "\n",
        "# 39. 다음 넘파이 배열의 최소값의 인덱스를 출력하세요(힌트 argmin)\n",
        "\n",
        "a39 = np.array([ 1,2,3,4,5] )\n",
        "print('39', np.argmin( a39 )  )\n",
        "\n",
        "# 40. 다음 넘파이 배열의 최대값의 인덱스를 출력하세요(힌트 argmax)\n",
        "a40 = np.array([ 1,2,3,4,5] )\n",
        "print('40', np.argmax( a40 )  )\n",
        "\n",
        "# 41. 넘파이 배열을 오름차순 정렬해 보세요\n",
        "a41 = np.array([2, 1, 5, 3, 7, 4, 6, 8])\n",
        "print('41', np.sort( a41) )\n",
        "\n",
        "# 42. numpy.vstack 함수를 사용하여 다음 2차원 배열을 생성하세요\n",
        "\n",
        "arr1 = np.array([1, 2])\n",
        "arr2 = np.array([3, 4])\n",
        "a42 = np.vstack( ( arr1, arr2  )  )\n",
        "print('42', a42 )\n",
        "\n",
        "# 결과화면\n",
        "\n",
        "# array([[1, 2],\n",
        "#        [3, 4]])\n",
        "\n",
        "# 43. flatten 메소드를 이용하여 다음 배열을 1차원 배열로 변경하세요\n",
        "\n",
        "import numpy as np\n",
        "a43 = np.array([ [1, 2], [3, 4] ])\n",
        "# a43 = a43.flatten()\n",
        "a43 = a43.reshape( 4 )\n",
        "print('43', a43 )"
      ],
      "metadata": {
        "colab": {
          "base_uri": "https://localhost:8080/"
        },
        "id": "ng5ZMKDeIMaJ",
        "outputId": "03abb3da-be55-442c-d321-6f588d952638"
      },
      "execution_count": 13,
      "outputs": [
        {
          "output_type": "stream",
          "name": "stdout",
          "text": [
            "36 [1 2 3 4]\n",
            "37 [-11  12 -13  14]\n",
            "38 [3, 5, 4, 2, 1]\n",
            "39 0\n",
            "40 4\n",
            "41 [1 2 3 4 5 6 7 8]\n",
            "42 [[1 2]\n",
            " [3 4]]\n",
            "43 [1 2 3 4]\n"
          ]
        }
      ]
    }
  ]
}