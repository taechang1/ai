{
  "nbformat": 4,
  "nbformat_minor": 0,
  "metadata": {
    "colab": {
      "provenance": [],
      "authorship_tag": "ABX9TyNnfROnUWyYMLb8F5AqEFnp",
      "include_colab_link": true
    },
    "kernelspec": {
      "name": "python3",
      "display_name": "Python 3"
    },
    "language_info": {
      "name": "python"
    }
  },
  "cells": [
    {
      "cell_type": "markdown",
      "metadata": {
        "id": "view-in-github",
        "colab_type": "text"
      },
      "source": [
        "<a href=\"https://colab.research.google.com/github/taechang1/ai/blob/master/7%ED%8C%90%EB%8B%A4%EC%8A%A4%EC%98%88%EC%A0%9C_%EC%8B%9C%EB%A6%AC%EC%A6%881.ipynb\" target=\"_parent\"><img src=\"https://colab.research.google.com/assets/colab-badge.svg\" alt=\"Open In Colab\"/></a>"
      ]
    },
    {
      "cell_type": "markdown",
      "source": [
        "- 판다스는 파이썬의 수 많은 라이브러리 가운데 레이블 형태의 자료를 수집하고 정리하는 데 매우 유용한 도구입니다. 이러한 판다스의 두 가지 대표적인 자료구조가 바로 시리즈(Series)와 데이터프레임(Dataframe)입니다.\n",
        "먼저 시리즈에 대해 알아보도록 합니다.\n",
        "\n",
        "- Pandas의 Series는 1차원 배열로서 다음의 특징을 가집니다.\n",
        "-- 데이터를 담는 차원 배열 구조를 가집니다.\n",
        "-- 인덱스(index)를 사용 가능합니다.\n",
        "-- 데이터 타입을 가집니다. (dtype)\n"
      ],
      "metadata": {
        "id": "Sf9TuzWbqKr4"
      }
    },
    {
      "cell_type": "code",
      "source": [
        "import numpy as np\n",
        "import pandas as pd"
      ],
      "metadata": {
        "id": "Btr8ZdELp_Op"
      },
      "execution_count": 1,
      "outputs": []
    },
    {
      "cell_type": "code",
      "source": [
        "# Series의 생성 방법1 - numpy를 이용하기\n",
        "# 1. numpy array로 생성한 경우\n",
        "a1 = np.arange( 100, 105 )\n",
        "print( '넌파이 ', a1)\n",
        "pd_a1 = pd.Series( a1 )\n",
        "print( '판다스 a1', pd_a1 )\n",
        "# 2. dtype 지정하기\n",
        "pd_a2 = pd.Series( a1, dtype='int32' )\n",
        "print( '판다스 a2', pd_a2 )\n",
        "pd_a3 = pd.Series( a1, dtype='float32' )\n",
        "print( '판다스 a3', pd_a3 )"
      ],
      "metadata": {
        "colab": {
          "base_uri": "https://localhost:8080/"
        },
        "id": "3QTF_6rEqIdo",
        "outputId": "335d5063-49bc-4d4d-d91a-67d909a98210"
      },
      "execution_count": 18,
      "outputs": [
        {
          "output_type": "stream",
          "name": "stdout",
          "text": [
            "넌파이  [100 101 102 103 104]\n",
            "판다스 a1 0    100\n",
            "1    101\n",
            "2    102\n",
            "3    103\n",
            "4    104\n",
            "dtype: int64\n",
            "판다스 a2 0    100\n",
            "1    101\n",
            "2    102\n",
            "3    103\n",
            "4    104\n",
            "dtype: int32\n",
            "판다스 a3 0    100.0\n",
            "1    101.0\n",
            "2    102.0\n",
            "3    103.0\n",
            "4    104.0\n",
            "dtype: float32\n"
          ]
        }
      ]
    },
    {
      "cell_type": "code",
      "source": [
        "#Series의 생성 방법2-list를 이용하기\n",
        "data=[91,2.5,'문자',4,5.16]#리스트안에 다양한 자료형을 넣음\n",
        "pd_s2=pd.Series(data)\n",
        "print(pd_s2)\n",
        "print(pd_s2.dtype)# list 안에 자료가 다양하므로 모든 자료형을 표현할수 있는 object형이 나온다\n",
        "print(pd_s2.index)\n",
        "\n",
        "#인덱싱\n",
        "pd_s2[[1,3] ]#pd_s2[[인덱스1,인덱스2]\n",
        "pd_s2[[]]"
      ],
      "metadata": {
        "colab": {
          "base_uri": "https://localhost:8080/"
        },
        "id": "-Wx1omJ6ro-K",
        "outputId": "6b296775-3aaa-4053-866c-5cb9e82b4fcf"
      },
      "execution_count": 3,
      "outputs": [
        {
          "output_type": "stream",
          "name": "stdout",
          "text": [
            "0      91\n",
            "1     2.5\n",
            "2      문자\n",
            "3       4\n",
            "4    5.16\n",
            "dtype: object\n",
            "object\n",
            "RangeIndex(start=0, stop=5, step=1)\n"
          ]
        },
        {
          "output_type": "execute_result",
          "data": {
            "text/plain": [
              "1    2.5\n",
              "3      4\n",
              "dtype: object"
            ]
          },
          "metadata": {},
          "execution_count": 3
        }
      ]
    },
    {
      "cell_type": "code",
      "source": [
        "#판다스 버전알기 pd.__version__"
      ],
      "metadata": {
        "id": "Oh6Qq-FP9nuX"
      },
      "execution_count": null,
      "outputs": []
    },
    {
      "cell_type": "code",
      "source": [
        "#Series의 생성 방법3\n",
        "import pandas as pd\n",
        "import numpy as np\n",
        "\n",
        "np.random.seed(0)\n",
        "a2=pd.Series(np.random.randint(100,200,size=(10,)))# 100~200 사이의 랜덤수를 10개 만든다\n",
        "#print(a2)\n",
        "#\n",
        "print(a2[a2>150])\n"
      ],
      "metadata": {
        "id": "a49Lh7DE_N6N"
      },
      "execution_count": null,
      "outputs": []
    },
    {
      "cell_type": "code",
      "source": [
        "# Series의 생성 방법4\n",
        "a4 = pd.Series( [ '마케팅',  '경영', '개발', '기획', '인시'  ] ,  index=[ 'a', 'b', 'c', 'd', 'e' ] )  # index명 지정하기\n",
        "print( a4 ) # 인덱스   값 보기\n",
        "print( a4.index )  # 인덱스 보기\n",
        "print( a4.values ) # 값보기\n",
        "print( a4[  'a' ] )    # 'a' 인덱스를 가지고 '마케팅' 값을 보기\n",
        "# 인덱스를 가지고 경영, 인사 값 보기\n",
        "print( a4[  [ 'b', 'e' ]  ] )\n",
        "# dtype보기\n",
        "print( 'a4.dtype ==> ',  a4.dtype )\n",
        "# ndim 차원\n",
        "print( 'a4.ndim ==> ',  a4.ndim  )\n",
        "# shape 데이터의 모양, 데이터 갯수\n",
        "print( 'a4.shape ==> ',  a4.shape  )"
      ],
      "metadata": {
        "colab": {
          "base_uri": "https://localhost:8080/"
        },
        "id": "Ev8UKAAH__t9",
        "outputId": "6ae25170-ab0b-4145-9c58-2c4b2a66cc2b"
      },
      "execution_count": 19,
      "outputs": [
        {
          "output_type": "stream",
          "name": "stdout",
          "text": [
            "a    마케팅\n",
            "b     경영\n",
            "c     개발\n",
            "d     기획\n",
            "e     인시\n",
            "dtype: object\n",
            "Index(['a', 'b', 'c', 'd', 'e'], dtype='object')\n",
            "['마케팅' '경영' '개발' '기획' '인시']\n",
            "마케팅\n",
            "b    경영\n",
            "e    인시\n",
            "dtype: object\n",
            "a4.dtype ==>  object\n",
            "a4.ndim ==>  1\n",
            "a4.shape ==>  (5,)\n"
          ]
        }
      ]
    },
    {
      "cell_type": "code",
      "source": [
        "#nan(not anumber-number)결측값\n",
        "a5=pd.Series(['선화','강호',np.nan,'소정','우영'])\n",
        "a5.isna()\n",
        "a5[a5.isna()]\n",
        "\n",
        "a5[a5.notnull()]\n",
        "a5[a5.notna()]"
      ],
      "metadata": {
        "colab": {
          "base_uri": "https://localhost:8080/"
        },
        "id": "UXbclpZfAAA8",
        "outputId": "6a93004d-2ab9-4311-c8fa-2262f51dcda0"
      },
      "execution_count": 17,
      "outputs": [
        {
          "output_type": "execute_result",
          "data": {
            "text/plain": [
              "0    선화\n",
              "1    강호\n",
              "3    소정\n",
              "4    우영\n",
              "dtype: object"
            ]
          },
          "metadata": {},
          "execution_count": 17
        }
      ]
    },
    {
      "cell_type": "code",
      "source": [
        "from re import A\n",
        "#슬라이싱\n",
        "a6=pd.Series(np.arange(100,150,10))\n",
        "a6.index=list('a','b','c','d','e')\n",
        "a6['a':'d']\n",
        "index_list=list('abcd')\n",
        "index_list\n",
        "print(a6[index_list],'~~')"
      ],
      "metadata": {
        "id": "8BKjmqKCEoyN"
      },
      "execution_count": null,
      "outputs": []
    },
    {
      "cell_type": "markdown",
      "source": [
        "시리즈 문제 풀기"
      ],
      "metadata": {
        "id": "Hod-k9XPjikg"
      }
    },
    {
      "cell_type": "code",
      "source": [
        "# 1\n",
        "s1 = pd.Series( np.arange( 3, 12, 2), dtype='float32' )\n",
        "# print( s1 )\n",
        "\n",
        "# 2\n",
        "s2 = pd.Series(    list('가나다라마') )\n",
        "# print( s2 )\n",
        "\n",
        "# 3\n",
        "s3 = pd.Series( np.arange( 10, 55, 10) , index=list('가나다라마'), dtype='int64'   )\n",
        "# print( s3 )\n",
        "\n",
        "# 4\n",
        "# print( s3[    [  '나' ,  '라'  ]   ])\n",
        "\n",
        "# 5\n",
        "np.random.seed(20)\n",
        "s5 = pd.Series( np.random.randint(100, 200, size=(15,) )  )\n",
        "s5[ s5 <= 160  ]\n",
        "\n",
        "# 6\n",
        "s5[ (s5 >= 130) & (s5 <=170)  ]\n",
        "\n",
        "#7\n",
        "s7 = pd.Series( ['apple', np.nan,  'banana',  'kiwi',  'gubong'] ,\n",
        "                         index=list( '가나다라마' )  )\n",
        "# print( s7 )\n",
        "\n",
        "# 8\n",
        "s8 = pd.Series(['IT서비스', np.nan, '반도체', np.nan, '바이오', '자율주행'])\n",
        "# s8[ s8.isna()  ]\n",
        "\n",
        "# 9\n",
        "s8[ s8.notna() ]\n",
        "\n",
        "# 10\n",
        "np.random.seed(0)\n",
        "s10 = pd.Series(np.random.randint(100, 200, size=(10,)))\n",
        "s10[ 2:7 ]\n",
        "\n",
        "# 11\n",
        "np.random.seed(0)\n",
        "s11 = pd.Series(np.random.randint(100, 200, size=(10,)), index=list('가나다라마바사아자차'))\n",
        "s11[ '바':'차'  ]\n",
        "s11[ '가':'다'  ]\n",
        "s11[ '나':'바'  ]"
      ],
      "metadata": {
        "colab": {
          "base_uri": "https://localhost:8080/"
        },
        "id": "bCmWzoD9NODJ",
        "outputId": "4328044e-a309-481b-86b7-de43544d43b4"
      },
      "execution_count": 20,
      "outputs": [
        {
          "output_type": "execute_result",
          "data": {
            "text/plain": [
              "나    147\n",
              "다    164\n",
              "라    167\n",
              "마    167\n",
              "바    109\n",
              "dtype: int64"
            ]
          },
          "metadata": {},
          "execution_count": 20
        }
      ]
    },
    {
      "cell_type": "code",
      "source": [],
      "metadata": {
        "id": "DhrLWWIvjpow"
      },
      "execution_count": null,
      "outputs": []
    }
  ]
}